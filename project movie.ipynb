{
 "cells": [
  {
   "cell_type": "code",
   "execution_count": 1,
   "metadata": {},
   "outputs": [
    {
     "name": "stdout",
     "output_type": "stream",
     "text": [
      "hello world\n"
     ]
    }
   ],
   "source": [
    "print(\"hello world\")"
   ]
  },
  {
   "cell_type": "code",
   "execution_count": null,
   "metadata": {},
   "outputs": [
    {
     "name": "stderr",
     "output_type": "stream",
     "text": [
      "C:\\Users\\TAMRAPANNI\\AppData\\Local\\Temp\\ipykernel_67872\\2582001656.py:2: DtypeWarning: Columns (10) have mixed types. Specify dtype option on import or set low_memory=False.\n",
      "  data = pd.read_csv(r\"C:\\Users\\TAMRAPANNI\\OneDrive\\Desktop\\dataset\\movies_metadata.csv\")\n",
      "C:\\Users\\TAMRAPANNI\\AppData\\Local\\Temp\\ipykernel_67872\\2582001656.py:25: SettingWithCopyWarning: \n",
      "A value is trying to be set on a copy of a slice from a DataFrame.\n",
      "Try using .loc[row_indexer,col_indexer] = value instead\n",
      "\n",
      "See the caveats in the documentation: https://pandas.pydata.org/pandas-docs/stable/user_guide/indexing.html#returning-a-view-versus-a-copy\n",
      "  movies['tags']=movies['tags'].apply(lambda x:' '.join(x))\n"
     ]
    },
    {
     "name": "stdout",
     "output_type": "stream",
     "text": [
      "Defaulting to user installation because normal site-packages is not writeable\n",
      "Requirement already satisfied: nltk in c:\\programdata\\anaconda3\\lib\\site-packages (3.8.1)\n",
      "Requirement already satisfied: click in c:\\programdata\\anaconda3\\lib\\site-packages (from nltk) (8.1.7)\n",
      "Requirement already satisfied: joblib in c:\\programdata\\anaconda3\\lib\\site-packages (from nltk) (1.4.2)\n",
      "Requirement already satisfied: regex>=2021.8.3 in c:\\programdata\\anaconda3\\lib\\site-packages (from nltk) (2023.10.3)\n",
      "Requirement already satisfied: tqdm in c:\\programdata\\anaconda3\\lib\\site-packages (from nltk) (4.66.4)\n",
      "Requirement already satisfied: colorama in c:\\users\\tamrapanni\\appdata\\roaming\\python\\python312\\site-packages (from click->nltk) (0.4.6)\n",
      "Note: you may need to restart the kernel to use updated packages.\n",
      "Jurassic World\n",
      "Trailer Park Boys: Countdown to Liquor Day\n",
      "Piranha 3DD\n",
      "The Devil's Carnival\n",
      "Transformers: Revenge of the Fallen\n"
     ]
    },
    {
     "name": "stderr",
     "output_type": "stream",
     "text": [
      "C:\\Users\\TAMRAPANNI\\AppData\\Local\\Temp\\ipykernel_67872\\2582001656.py:38: SettingWithCopyWarning: \n",
      "A value is trying to be set on a copy of a slice from a DataFrame.\n",
      "Try using .loc[row_indexer,col_indexer] = value instead\n",
      "\n",
      "See the caveats in the documentation: https://pandas.pydata.org/pandas-docs/stable/user_guide/indexing.html#returning-a-view-versus-a-copy\n",
      "  movies['tags']=movies['tags'].apply(stem)\n"
     ]
    }
   ],
   "source": [
    "import pandas as pd\n",
    "data = pd.read_csv(r\"C:\\Users\\TAMRAPANNI\\OneDrive\\Desktop\\dataset\\movies_metadata.csv\")\n",
    "data.head()\n",
    "data.isnull().sum()\n",
    "data.dropna(inplace=True)\n",
    "data.isnull().sum()\n",
    "data.duplicated().sum()\n",
    "data.iloc[0].genres\n",
    "import ast\n",
    "def convert(obj):\n",
    "    l=[]\n",
    "    for i in ast.literal_eval(obj):\n",
    "        l.append(i['name'])\n",
    "    return l\n",
    "data['genres']=data['genres'].apply(convert)\n",
    "data.head()\n",
    "data['spoken_languages']=data['spoken_languages'].apply(convert)\n",
    "data.head()\n",
    "data['overview']=data['overview'].apply(lambda x:x.split())\n",
    "data['genres']=data['genres'].apply(lambda x:[i.replace(' ','') for i in x])\n",
    "data['spoken_languages']=data['spoken_languages'].apply(lambda x:[i.replace(' ','') for i in x])\n",
    "data['tags']=data['overview']+data['genres']+data['spoken_languages']\n",
    "movies=data[['id','title','tags']]\n",
    "movies.head()\n",
    "movies['tags']=movies['tags'].apply(lambda x:' '.join(x))\n",
    "from sklearn.feature_extraction.text import CountVectorizer # type: ignore\n",
    "cv=CountVectorizer(max_features=5000,stop_words='english')\n",
    "vectors=cv.fit_transform(movies['tags']).toarray()\n",
    "%pip install nltk\n",
    "import nltk\n",
    "from nltk.stem.porter import PorterStemmer\n",
    "ps=PorterStemmer()\n",
    "def stem(text):\n",
    "    y=[]\n",
    "    for i in text.split():\n",
    "        y.append(ps.stem(i))\n",
    "    return \" \".join(y)\n",
    "movies['tags']=movies['tags'].apply(stem)\n",
    "from sklearn.metrics.pairwise import cosine_similarity\n",
    "similarity=cosine_similarity(vectors)\n",
    "movies.head()\n",
    "movie=input(\"enter the movie name\")\n",
    "def recommend(movie):\n",
    "    movie_index = movies[movies['title'].str.lower() == movie.lower()].index  \n",
    "    movie_index = movie_index[0]  \n",
    "    distances = similarity[movie_index]  \n",
    "    movie_list = sorted(list(enumerate(distances)), reverse=True, key=lambda x: x[1])[1:6]\n",
    "    for i in movie_list:\n",
    "        print(movies.iloc[i[0]].title)  \n",
    "recommend(movie)\n",
    "    \n",
    "\n"
   ]
  },
  {
   "cell_type": "code",
   "execution_count": null,
   "metadata": {},
   "outputs": [],
   "source": []
  }
 ],
 "metadata": {
  "kernelspec": {
   "display_name": "base",
   "language": "python",
   "name": "python3"
  },
  "language_info": {
   "codemirror_mode": {
    "name": "ipython",
    "version": 3
   },
   "file_extension": ".py",
   "mimetype": "text/x-python",
   "name": "python",
   "nbconvert_exporter": "python",
   "pygments_lexer": "ipython3",
   "version": "3.12.4"
  }
 },
 "nbformat": 4,
 "nbformat_minor": 2
}
